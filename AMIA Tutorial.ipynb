{
 "cells": [
  {
   "cell_type": "code",
   "execution_count": 1,
   "metadata": {},
   "outputs": [
    {
     "name": "stderr",
     "output_type": "stream",
     "text": [
      "[nltk_data] Downloading package punkt to\n",
      "[nltk_data]     /home/bhanupratap/nltk_data...\n",
      "[nltk_data]   Package punkt is already up-to-date!\n"
     ]
    }
   ],
   "source": [
    "import nltk \n",
    "nltk.download('punkt')\n",
    "from nltk.tokenize import word_tokenize\n",
    "import torch\n",
    "import torch.nn as nn\n",
    "import torch.autograd as autograd\n",
    "from torch.nn.utils.rnn import pack_padded_sequence, pad_packed_sequence\n",
    "import torch.nn.functional as F\n",
    "import torch.optim as optim\n",
    "import numpy as np\n",
    "from tqdm import tqdm_notebook as tqdm\n",
    "import matplotlib.pyplot as plt"
   ]
  },
  {
   "cell_type": "markdown",
   "metadata": {},
   "source": [
    "## Synthetic Train Data\n",
    "----------------"
   ]
  },
  {
   "cell_type": "code",
   "execution_count": 2,
   "metadata": {},
   "outputs": [],
   "source": [
    "train_data = [['The patient had major bleeding when admitted yesterday','Relevant','Yes'],\n",
    "             ['The patient was admitted on [DATE] and resides at [PLACE]','Non-Relevant','False'],\n",
    "             ['There was no bleeding observed in the patient since the prescription of medication.','Relevant','No'],\n",
    "             ['Since the surgery, minor clotting was observed in patients stomach.','Relevant','DK']]"
   ]
  },
  {
   "cell_type": "code",
   "execution_count": 3,
   "metadata": {},
   "outputs": [],
   "source": [
    "# Tokenize the sentences with the help of nltk word tokenizer\n",
    "train_data = [[word_tokenize(x[0]), x[1], x[2]] for x in train_data]"
   ]
  },
  {
   "cell_type": "code",
   "execution_count": 4,
   "metadata": {},
   "outputs": [],
   "source": [
    "def prepare_dicts(data_):\n",
    "    word_to_ix = {}\n",
    "    class_to_ix = {}\n",
    "    relevance_to_ix = {}\n",
    "    for each_ in data_:\n",
    "        tokens = list(each_[0])\n",
    "        for each_token in tokens:\n",
    "            if(each_token not in word_to_ix):\n",
    "                word_to_ix[each_token] = len(word_to_ix)\n",
    "    word_to_ix['<START>'] = len(word_to_ix)\n",
    "    word_to_ix['<END>'] = len(word_to_ix)\n",
    "    word_to_ix['<UNK>'] = len(word_to_ix)\n",
    "    word_to_ix['<PAD>'] = len(word_to_ix)\n",
    "    \n",
    "    relevance_to_ix['Non-Relevant'] = 0\n",
    "    relevance_to_ix['Relevant'] = 1\n",
    "    \n",
    "    class_to_ix['Yes'] = 0\n",
    "    class_to_ix['No'] = 1\n",
    "    class_to_ix['DK'] = 2\n",
    "    class_to_ix['False'] = 3\n",
    "    to_ix = {}\n",
    "    to_ix['word2ix'] = word_to_ix\n",
    "    to_ix['class2ix'] = class_to_ix\n",
    "    to_ix['relevance2ix'] = relevance_to_ix\n",
    "    return to_ix"
   ]
  },
  {
   "cell_type": "code",
   "execution_count": 5,
   "metadata": {},
   "outputs": [],
   "source": [
    "# Create all the required vocab dictionaries\n",
    "to_ix = prepare_dicts(train_data)"
   ]
  },
  {
   "cell_type": "markdown",
   "metadata": {},
   "source": [
    "# Functions below to batchify the datapoints\n",
    "-----------------------------------"
   ]
  },
  {
   "cell_type": "code",
   "execution_count": 6,
   "metadata": {},
   "outputs": [],
   "source": [
    "def batchify(all_datapoints, to_ix):\n",
    "    main_sents = []\n",
    "    main_scores = []\n",
    "    main_relevances = []\n",
    "\n",
    "    for each_datapoint in all_datapoints:\n",
    "        main_sents.append(each_datapoint[0])\n",
    "        main_relevances.append(to_ix['relevance2ix'][each_datapoint[1]])\n",
    "        main_scores.append(to_ix['class2ix'][each_datapoint[2]])\n",
    "    sorted_sents, sorted_lens, descend_indices = get_sequence_doc(main_sents, to_ix, LIMIT_LEN=150)\n",
    "    sorted_scores = []\n",
    "    sorted_relevances = []\n",
    "    sorted_contexts = []\n",
    "    sorted_rel_weights = []\n",
    "    sorted_sc_weights = []\n",
    "    sorted_main_docs = []\n",
    "    \n",
    "    for ind in descend_indices:\n",
    "        sorted_scores.append(main_scores[ind])\n",
    "        sorted_relevances.append(main_relevances[ind])\n",
    "        \n",
    "    dict_ = {'sents':sorted_sents, \n",
    "            'lens':sorted_lens,\n",
    "            'scores':sorted_scores,\n",
    "            'relevances':sorted_relevances}\n",
    "    return dict_\n",
    "\n",
    "def get_sequence_doc(sentences, to_ix, LIMIT_LEN = 150):\n",
    "    max_len = 0\n",
    "    batch_sents = []\n",
    "    for each_sentence in sentences:\n",
    "        batch_sent = []\n",
    "        for x in each_sentence:\n",
    "            if(x not in to_ix['word2ix']):\n",
    "                batch_sent.append(to_ix['word2ix']['<UNK>'])\n",
    "            else:\n",
    "                batch_sent.append(to_ix['word2ix'][x])\n",
    "        if(len(batch_sent)>max_len):\n",
    "            max_len = len(batch_sent)\n",
    "        batch_sents.append(batch_sent)\n",
    "    if(max_len>LIMIT_LEN):\n",
    "        max_len = LIMIT_LEN\n",
    "    all_lens = [len(x[:max_len]) for x in batch_sents]\n",
    "    all_lens = [x+2 for x in all_lens]\n",
    "    batch_sents = [[to_ix['word2ix']['<START>']]+batch_sents[ind][:max_len]+[to_ix['word2ix']['<END>']]+[to_ix['word2ix']['<PAD>'] for x in range(max_len-len(batch_sents[ind]))] for ind in range(len(batch_sents))]\n",
    "\n",
    "    descend_indices = list(np.argsort(all_lens))\n",
    "    descend_indices.reverse()\n",
    "    sorted_sents = []\n",
    "    sorted_lens = []\n",
    "    for ind in descend_indices:\n",
    "        sorted_sents.append(batch_sents[ind])\n",
    "        sorted_lens.append(all_lens[ind])\n",
    "    return sorted_sents, sorted_lens, descend_indices"
   ]
  },
  {
   "cell_type": "markdown",
   "metadata": {},
   "source": [
    "# Model \n",
    "- LSTM/Bi-LSTM encoder with dot attention for multi-class classification\n",
    "----------------------"
   ]
  },
  {
   "cell_type": "code",
   "execution_count": 7,
   "metadata": {},
   "outputs": [],
   "source": [
    "class NaranjoTut(nn.Module):\n",
    "    def __init__(self, config):\n",
    "        super(NaranjoTut, self).__init__()\n",
    "        '''\n",
    "            hidden_dim: To define the hidden dimensions of the LSTM encoder\n",
    "            ans_size: Number of answer classes\n",
    "            relevance_size: Number of relevance classes\n",
    "            vocab_size: Size of our token vocabulary\n",
    "            embed_dim: Dimension of vocab embeddings\n",
    "            bilstm_flag: Whether the LSTM encoder is bidirectional or not\n",
    "            layers: Number of LSTM or BiLSTM layer in the encoder\n",
    "            dropout: The dropout coefficient for our LSTM layers\n",
    "        '''\n",
    "        self.config = config\n",
    "        self.hidden_dim = config['hidden_dim']\n",
    "        self.ans_size = config['ans_size']\n",
    "        self.relevance_size = config['relevance_size']\n",
    "        self.vocab_size = config['vocab_size']\n",
    "        self.embed_dim = config['embed_dim']\n",
    "        self.hidden2relevance = nn.Linear(config['hidden_dim'], config['relevance_size'])\n",
    "        self.hidden2ans = nn.Linear(config['hidden_dim'], config['ans_size'])\n",
    "        \n",
    "        self.bilstm_flag = config['bilstm_flag']\n",
    "        self.layers=config['layers']\n",
    "        self.dropout=config['dropout']\n",
    "        \n",
    "        # defining the word embeddings\n",
    "        self.word_embeddings = nn.Embedding(self.vocab_size, self.embed_dim)\n",
    "        \n",
    "        # Defining the LSTM encoder\n",
    "        if(self.bilstm_flag):\n",
    "            self.lstm_word = nn.LSTM(self.embed_dim, int(self.hidden_dim/2), num_layers = self.layers,\n",
    "                                bidirectional=True, batch_first=True, dropout=self.dropout)\n",
    "        else:\n",
    "            self.lstm_word = nn.LSTM(self.embed_dim, self.hidden_dim, num_layers = self.layers,\n",
    "                                bidirectional=False, batch_first=True, dropout=self.dropout)\n",
    "        \n",
    "        self.attn_relevance = DotAttentionLayer(self.hidden_dim)\n",
    "    \n",
    "    def init_hidden(self, bilstm_flag, batch_size, layers, hidden_dim):\n",
    "        # num_layes, minibatch size, hidden_dim\n",
    "        if(bilstm_flag):\n",
    "            return (autograd.Variable(torch.FloatTensor(layers*2,\n",
    "                                                             batch_size,\n",
    "                                                             int(hidden_dim/2)).fill_(0)),\n",
    "                   autograd.Variable(torch.FloatTensor(layers*2,\n",
    "                                                            batch_size,\n",
    "                                                            int(hidden_dim/2)).fill_(0)))\n",
    "        else:\n",
    "            return (autograd.Variable(torch.FloatTensor(layers,\n",
    "                                                             batch_size,\n",
    "                                                             hidden_dim).fill_(0)),\n",
    "                   autograd.Variable(torch.FloatTensor(layers,\n",
    "                                                            batch_size,\n",
    "                                                            hidden_dim).fill_(0)))\n",
    "    \n",
    "    def forward(self, sent_inds, sent_lens):\n",
    "        # Getting the embeddings\n",
    "        embeds = self.word_embeddings(sent_inds)\n",
    "        \n",
    "        # Pack the whole batch and initialize the hidden and cell states for the LSTM encoder\n",
    "        packed = pack_padded_sequence(embeds, batch_lens, batch_first = True)\n",
    "        self.hidden_vals = self.init_hidden(self.bilstm_flag, embeds.shape[0], self.layers, self.hidden_dim)\n",
    "        \n",
    "        # Getting the hidden states from the encoder for each of the token\n",
    "        packed_output, self.hidden_vals = self.lstm_word(packed, self.hidden_vals)\n",
    "        lstm_out = pad_packed_sequence(packed_output, batch_first=True)[0]\n",
    "        \n",
    "        # Getting sequence representation by doing weighted summation\n",
    "        pad_op = self.attn_relevance((lstm_out,batch_lens))\n",
    "        \n",
    "        # Softmax probs for relevance classification\n",
    "        tag_space_rel = self.hidden2relevance(pad_op)\n",
    "        tag_space_rel = F.log_softmax(tag_space_rel,dim=1) \n",
    "        \n",
    "        # Softmax probs for answer classification\n",
    "        tag_space_ans = self.hidden2ans(pad_op)\n",
    "        tag_space_ans = F.log_softmax(tag_space_ans, dim=1) \n",
    "        \n",
    "        return tag_space_rel, tag_space_ans\n",
    "        \n",
    "class DotAttentionLayer(nn.Module):\n",
    "    def __init__(self, hidden_size):\n",
    "        super(DotAttentionLayer, self).__init__()\n",
    "        self.hidden_size = hidden_size\n",
    "        self.W = nn.Linear(hidden_size, 1, bias=False)\n",
    "\n",
    "    def forward(self, input):\n",
    "        \"\"\"\n",
    "        input: (unpacked_padded_output: batch_size x seq_len x hidden_size, lengths: batch_size)\n",
    "        \"\"\"\n",
    "        inputs, lengths = input\n",
    "        batch_size, max_len, _ = inputs.size()\n",
    "        flat_input = inputs.contiguous().view(-1, self.hidden_size)\n",
    "        logits = self.W(flat_input).view(batch_size, max_len)\n",
    "        alphas = F.softmax(logits, dim=1)\n",
    "\n",
    "        # computing mask\n",
    "        idxes = torch.arange(0, max_len, out=torch.LongTensor(max_len)).unsqueeze(0)\n",
    "        mask = autograd.Variable((idxes<lengths.unsqueeze(1)).float())\n",
    "        alphas = alphas * mask\n",
    "        \n",
    "        # renormalize\n",
    "        alphas = alphas / torch.sum(alphas, 1).view(-1, 1)\n",
    "        output = torch.bmm(alphas.unsqueeze(1), inputs).squeeze(1)\n",
    "        return output"
   ]
  },
  {
   "cell_type": "code",
   "execution_count": 8,
   "metadata": {},
   "outputs": [],
   "source": [
    "model_config = {\n",
    "    'hidden_dim' : 400,\n",
    "    'bilstm_flag': True,\n",
    "    'ans_size' : len(to_ix['class2ix']),\n",
    "    'relevance_size' : len(to_ix['relevance2ix']),\n",
    "    'vocab_size' : len(to_ix['word2ix']),\n",
    "    'embed_dim' : 180, \n",
    "    'layers':2, \n",
    "    'dropout':0.1, \n",
    "    'lr':0.01,\n",
    "    'weight_decay':1e-6,\n",
    "    'batch_size':2,\n",
    "    'alpha':0.5,\n",
    "    'model_name': 'AMIA_tutorial_'\n",
    "}"
   ]
  },
  {
   "cell_type": "markdown",
   "metadata": {},
   "source": [
    "# Initializing Model, Loss function and Optimizer\n",
    "---------------------------------------------------"
   ]
  },
  {
   "cell_type": "code",
   "execution_count": 9,
   "metadata": {},
   "outputs": [
    {
     "name": "stderr",
     "output_type": "stream",
     "text": [
      "/home/bhanupratap/py3/lib/python3.6/site-packages/torch/nn/_reduction.py:46: UserWarning: size_average and reduce args will be deprecated, please use reduction='none' instead.\n",
      "  warnings.warn(warning.format(ret))\n"
     ]
    }
   ],
   "source": [
    "model = NaranjoTut(model_config)\n",
    "loss_function = nn.NLLLoss(reduce=False)\n",
    "optimizer = optim.SGD(model.parameters(), \n",
    "                           lr=model_config['lr'], \n",
    "                           weight_decay=model_config['weight_decay'])"
   ]
  },
  {
   "cell_type": "markdown",
   "metadata": {},
   "source": [
    "## Batchifying 2 datapoints together\n",
    "--------------------------"
   ]
  },
  {
   "cell_type": "code",
   "execution_count": 10,
   "metadata": {},
   "outputs": [],
   "source": [
    "train_loss_list = []\n",
    "\n",
    "pred_rel = []\n",
    "actual_rel = []\n",
    "\n",
    "pred_sc = []\n",
    "actual_sc = []\n",
    "\n",
    "train_loss = 0\n",
    "\n",
    "batch = batchify(train_data[0:2], to_ix)\n",
    "batch_sents = autograd.Variable(torch.LongTensor(batch['sents']))\n",
    "batch_lens = autograd.Variable(torch.LongTensor(batch['lens']))"
   ]
  },
  {
   "cell_type": "markdown",
   "metadata": {},
   "source": [
    "## Passing them through the model\n",
    "---------------------------------"
   ]
  },
  {
   "cell_type": "code",
   "execution_count": 11,
   "metadata": {},
   "outputs": [],
   "source": [
    "score_rel, score_ans = model(batch_sents, batch_lens)"
   ]
  },
  {
   "cell_type": "markdown",
   "metadata": {},
   "source": [
    "## Getting the relevance and answer predictions\n",
    "------------"
   ]
  },
  {
   "cell_type": "code",
   "execution_count": 12,
   "metadata": {},
   "outputs": [],
   "source": [
    "actual_relevance_score = autograd.Variable(torch.LongTensor(batch['relevances'])) \n",
    "val, inds = torch.max(score_rel, dim=1)\n",
    "pred_rel+=inds.tolist()\n",
    "actual_rel+=actual_relevance_score.tolist()\n",
    "\n",
    "actual_sc_score = autograd.Variable(torch.LongTensor(batch['scores']))\n",
    "val, inds = torch.max(score_ans, dim=1)\n",
    "pred_sc+=inds.tolist()\n",
    "actual_sc+=actual_sc_score.tolist()"
   ]
  },
  {
   "cell_type": "code",
   "execution_count": 13,
   "metadata": {},
   "outputs": [
    {
     "name": "stdout",
     "output_type": "stream",
     "text": [
      "Actual Relevances [0, 1]\n",
      "Predicted Relevances [1, 1]\n",
      "--------------------\n",
      "Actual Answers [3, 0]\n",
      "Predicted Answers [0, 3]\n"
     ]
    }
   ],
   "source": [
    "print(\"Actual Relevances\", actual_rel)\n",
    "print(\"Predicted Relevances\", pred_rel)\n",
    "print('--'*10)\n",
    "print(\"Actual Answers\", actual_sc)\n",
    "print(\"Predicted Answers\", pred_sc)"
   ]
  },
  {
   "cell_type": "markdown",
   "metadata": {},
   "source": [
    "## Calculating Relevance and Answer Loss\n",
    "---------------------------------"
   ]
  },
  {
   "cell_type": "code",
   "execution_count": 14,
   "metadata": {},
   "outputs": [],
   "source": [
    "relevance_loss = loss_function(score_rel, actual_relevance_score)\n",
    "sc_loss = loss_function(score_ans, actual_sc_score)\n",
    "\n",
    "## Multi-task Loss\n",
    "loss = model_config['alpha']*torch.sum(relevance_loss)+(1-model_config['alpha'])*torch.sum(sc_loss)\n",
    "train_loss+=loss.item()"
   ]
  },
  {
   "cell_type": "code",
   "execution_count": 15,
   "metadata": {},
   "outputs": [],
   "source": [
    "loss.backward()\n",
    "optimizer.step()"
   ]
  },
  {
   "cell_type": "markdown",
   "metadata": {},
   "source": [
    "# Training the model\n",
    "------------------------------"
   ]
  },
  {
   "cell_type": "code",
   "execution_count": 17,
   "metadata": {},
   "outputs": [
    {
     "data": {
      "application/vnd.jupyter.widget-view+json": {
       "model_id": "5a2eb87c1e3148f5aa5c91ec6bc2dbfb",
       "version_major": 2,
       "version_minor": 0
      },
      "text/plain": [
       "HBox(children=(IntProgress(value=0, max=50), HTML(value='')))"
      ]
     },
     "metadata": {},
     "output_type": "display_data"
    },
    {
     "name": "stdout",
     "output_type": "stream",
     "text": [
      "\n"
     ]
    }
   ],
   "source": [
    "train_loss_list = []\n",
    "train_sc_loss_list = []\n",
    "for epoch in tqdm(range(50)):\n",
    "    pred_rel = []\n",
    "    actual_rel = []\n",
    "\n",
    "    pred_sc = []\n",
    "    actual_sc = []\n",
    "\n",
    "    train_loss = 0\n",
    "    tot_sc_loss = 0\n",
    "    for ind in range(0,len(train_data), model_config['batch_size']):\n",
    "        batch = batchify(train_data[ind:ind+model_config['batch_size']], to_ix)\n",
    "        batch_sents = autograd.Variable(torch.LongTensor(batch['sents']))\n",
    "        batch_lens = autograd.Variable(torch.LongTensor(batch['lens']))\n",
    "        \n",
    "        score_rel, score_ans = model(batch_sents, batch_lens)\n",
    "\n",
    "        actual_relevance_score = autograd.Variable(torch.LongTensor(batch['relevances'])) \n",
    "        val, inds = torch.max(score_rel, dim=1)\n",
    "        pred_rel+=inds.tolist()\n",
    "        actual_rel+=actual_relevance_score.tolist()\n",
    "\n",
    "        actual_sc_score = autograd.Variable(torch.LongTensor(batch['scores']))\n",
    "        val, inds = torch.max(score_ans, dim=1)\n",
    "        pred_sc+=inds.tolist()\n",
    "        actual_sc+=actual_sc_score.tolist()\n",
    "\n",
    "        relevance_loss = loss_function(score_rel, actual_relevance_score)\n",
    "        sc_loss = loss_function(score_ans, actual_sc_score)\n",
    "\n",
    "        loss = model_config['alpha']*torch.sum(relevance_loss)+(1-model_config['alpha'])*torch.sum(sc_loss)\n",
    "        train_loss+=loss.item()\n",
    "        tot_sc_loss+=torch.sum(sc_loss).item()\n",
    "\n",
    "        loss.backward()\n",
    "        optimizer.step()\n",
    "    train_loss_list.append(train_loss)\n",
    "    train_sc_loss_list.append(tot_sc_loss)"
   ]
  },
  {
   "cell_type": "code",
   "execution_count": 18,
   "metadata": {},
   "outputs": [
    {
     "name": "stdout",
     "output_type": "stream",
     "text": [
      "Actual Relevances [0, 1, 1, 1]\n",
      "Predicted Relevances [0, 1, 1, 1]\n",
      "--------------------\n",
      "Actual Answers [3, 0, 1, 2]\n",
      "Predicted Answers [3, 0, 1, 2]\n"
     ]
    }
   ],
   "source": [
    "print(\"Actual Relevances\", actual_rel)\n",
    "print(\"Predicted Relevances\", pred_rel)\n",
    "print('--'*10)\n",
    "print(\"Actual Answers\", actual_sc)\n",
    "print(\"Predicted Answers\", pred_sc)"
   ]
  },
  {
   "cell_type": "code",
   "execution_count": 19,
   "metadata": {},
   "outputs": [
    {
     "data": {
      "text/plain": [
       "[<matplotlib.lines.Line2D at 0x7f466582acc0>]"
      ]
     },
     "execution_count": 19,
     "metadata": {},
     "output_type": "execute_result"
    },
    {
     "data": {
      "image/png": "[encoded data removed]",
      "text/plain": [
       "<Figure size 432x288 with 1 Axes>"
      ]
     },
     "metadata": {
      "needs_background": "light"
     },
     "output_type": "display_data"
    }
   ],
   "source": [
    "plt.plot(train_loss_list)"
   ]
  },
  {
   "cell_type": "code",
   "execution_count": 20,
   "metadata": {},
   "outputs": [
    {
     "data": {
      "text/plain": [
       "[<matplotlib.lines.Line2D at 0x7f466303add8>]"
      ]
     },
     "execution_count": 20,
     "metadata": {},
     "output_type": "execute_result"
    },
    {
     "data": {
      "image/png": "[encoded data removed]",
      "text/plain": [
       "<Figure size 432x288 with 1 Axes>"
      ]
     },
     "metadata": {
      "needs_background": "light"
     },
     "output_type": "display_data"
    }
   ],
   "source": [
    "plt.plot(train_sc_loss_list)"
   ]
  },
  {
   "cell_type": "code",
   "execution_count": null,
   "metadata": {},
   "outputs": [],
   "source": []
  }
 ],
 "metadata": {
  "kernelspec": {
   "display_name": "Python 3",
   "language": "python",
   "name": "python3"
  },
  "language_info": {
   "codemirror_mode": {
    "name": "ipython",
    "version": 3
   },
   "file_extension": ".py",
   "mimetype": "text/x-python",
   "name": "python",
   "nbconvert_exporter": "python",
   "pygments_lexer": "ipython3",
   "version": "3.6.7"
  }
 },
 "nbformat": 4,
 "nbformat_minor": 2
}
