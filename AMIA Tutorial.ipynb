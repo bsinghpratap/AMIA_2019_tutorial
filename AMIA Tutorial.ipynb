{
 "cells": [
  {
   "cell_type": "code",
   "execution_count": 1,
   "metadata": {},
   "outputs": [],
   "source": [
    "from nltk.tokenize import word_tokenize\n",
    "import torch\n",
    "import torch.nn as nn\n",
    "import torch.autograd as autograd\n",
    "from torch.nn.utils.rnn import pack_padded_sequence, pad_packed_sequence\n",
    "import torch.nn.functional as F\n",
    "import torch.optim as optim\n",
    "import numpy as np\n",
    "from tqdm import tqdm_notebook as tqdm\n",
    "import matplotlib.pyplot as plt"
   ]
  },
  {
   "cell_type": "code",
   "execution_count": 2,
   "metadata": {},
   "outputs": [],
   "source": [
    "train_data = [['The patient had major bleeding when admitted yesterday','Relevant','Yes'],\n",
    "             ['The patient was admitted on [DATE] and resides at [PLACE]','Non-Relevant','False'],\n",
    "             ['There was no bleeding observed in the patient since the prescription of medication.','Relevant','No'],\n",
    "             ['Since the surgery, minor clotting was observed in patients stomach.','Relevant','DK']]"
   ]
  },
  {
   "cell_type": "code",
   "execution_count": 3,
   "metadata": {},
   "outputs": [],
   "source": [
    "train_data = [[word_tokenize(x[0]), x[1], x[2]] for x in train_data]"
   ]
  },
  {
   "cell_type": "code",
   "execution_count": 4,
   "metadata": {},
   "outputs": [],
   "source": [
    "def prepare_dicts(data_):\n",
    "    word_to_ix = {}\n",
    "    class_to_ix = {}\n",
    "    relevance_to_ix = {}\n",
    "    for each_ in data_:\n",
    "        tokens = list(each_[0])\n",
    "        for each_token in tokens:\n",
    "            if(each_token not in word_to_ix):\n",
    "                word_to_ix[each_token] = len(word_to_ix)\n",
    "    word_to_ix['<START>'] = len(word_to_ix)\n",
    "    word_to_ix['<END>'] = len(word_to_ix)\n",
    "    word_to_ix['<UNK>'] = len(word_to_ix)\n",
    "    word_to_ix['<PAD>'] = len(word_to_ix)\n",
    "    \n",
    "    relevance_to_ix['Non-Relevant'] = 0\n",
    "    relevance_to_ix['Relevant'] = 1\n",
    "    \n",
    "    class_to_ix['Yes'] = 0\n",
    "    class_to_ix['No'] = 1\n",
    "    class_to_ix['DK'] = 2\n",
    "    class_to_ix['False'] = 3\n",
    "    to_ix = {}\n",
    "    to_ix['word2ix'] = word_to_ix\n",
    "    to_ix['class2ix'] = class_to_ix\n",
    "    to_ix['relevance2ix'] = relevance_to_ix\n",
    "    return to_ix"
   ]
  },
  {
   "cell_type": "code",
   "execution_count": 5,
   "metadata": {},
   "outputs": [],
   "source": [
    "to_ix = prepare_dicts(train_data)"
   ]
  },
  {
   "cell_type": "code",
   "execution_count": 6,
   "metadata": {},
   "outputs": [],
   "source": [
    "model_config = {\n",
    "    'hidden_dim' : 400,\n",
    "    'bilstm_flag': True,\n",
    "    'ans_size' : len(to_ix['class2ix']),\n",
    "    'relevance_size' : len(to_ix['relevance2ix']),\n",
    "    'vocab_size' : len(to_ix['word2ix']),\n",
    "    'embed_dim' : 180, \n",
    "    'layers':2, \n",
    "    'dropout':0.1, \n",
    "    'lr':0.01,\n",
    "    'weight_decay':1e-6,\n",
    "    'batch_size':2,\n",
    "    'alpha':0.5,\n",
    "    'model_name': 'AMIA_tutorial_'\n",
    "}"
   ]
  },
  {
   "cell_type": "code",
   "execution_count": 7,
   "metadata": {},
   "outputs": [],
   "source": [
    "def batchify(all_datapoints, to_ix):\n",
    "    main_sents = []\n",
    "    main_scores = []\n",
    "    main_relevances = []\n",
    "\n",
    "    for each_datapoint in all_datapoints:\n",
    "        main_sents.append(each_datapoint[0])\n",
    "        main_relevances.append(to_ix['relevance2ix'][each_datapoint[1]])\n",
    "        main_scores.append(to_ix['class2ix'][each_datapoint[2]])\n",
    "    sorted_sents, sorted_lens, descend_indices = get_sequence_doc(main_sents, to_ix, LIMIT_LEN=150)\n",
    "    sorted_scores = []\n",
    "    sorted_relevances = []\n",
    "    sorted_contexts = []\n",
    "    sorted_rel_weights = []\n",
    "    sorted_sc_weights = []\n",
    "    sorted_main_docs = []\n",
    "    \n",
    "    for ind in descend_indices:\n",
    "        sorted_scores.append(main_scores[ind])\n",
    "        sorted_relevances.append(main_relevances[ind])\n",
    "        \n",
    "    dict_ = {'sents':sorted_sents, \n",
    "            'lens':sorted_lens,\n",
    "            'scores':sorted_scores,\n",
    "            'relevances':sorted_relevances}\n",
    "    return dict_\n",
    "\n",
    "def get_sequence_doc(sentences, to_ix, LIMIT_LEN = 150):\n",
    "    max_len = 0\n",
    "    batch_sents = []\n",
    "    for each_sentence in sentences:\n",
    "        batch_sent = []\n",
    "        for x in each_sentence:\n",
    "            if(x not in to_ix['word2ix']):\n",
    "                batch_sent.append(to_ix['word2ix']['<UNK>'])\n",
    "            else:\n",
    "                batch_sent.append(to_ix['word2ix'][x])\n",
    "        if(len(batch_sent)>max_len):\n",
    "            max_len = len(batch_sent)\n",
    "        batch_sents.append(batch_sent)\n",
    "    if(max_len>LIMIT_LEN):\n",
    "        max_len = LIMIT_LEN\n",
    "    all_lens = [len(x[:max_len]) for x in batch_sents]\n",
    "    all_lens = [x+2 for x in all_lens]\n",
    "    batch_sents = [[to_ix['word2ix']['<START>']]+batch_sents[ind][:max_len]+[to_ix['word2ix']['<END>']]+[to_ix['word2ix']['<PAD>'] for x in range(max_len-len(batch_sents[ind]))] for ind in range(len(batch_sents))]\n",
    "\n",
    "    descend_indices = list(np.argsort(all_lens))\n",
    "    descend_indices.reverse()\n",
    "    sorted_sents = []\n",
    "    sorted_lens = []\n",
    "    for ind in descend_indices:\n",
    "        sorted_sents.append(batch_sents[ind])\n",
    "        sorted_lens.append(all_lens[ind])\n",
    "    return sorted_sents, sorted_lens, descend_indices"
   ]
  },
  {
   "cell_type": "code",
   "execution_count": 8,
   "metadata": {},
   "outputs": [],
   "source": [
    "class NaranjoTut(nn.Module):\n",
    "    def __init__(self, config):\n",
    "        super(NaranjoTut, self).__init__()\n",
    "        \n",
    "        self.config = config\n",
    "        self.hidden_dim = config['hidden_dim']\n",
    "        self.ans_size = config['ans_size']\n",
    "        self.relevance_size = config['relevance_size']\n",
    "        self.vocab_size = config['vocab_size']\n",
    "        self.embed_dim = config['embed_dim']\n",
    "        self.hidden2relevance = nn.Linear(config['hidden_dim'], config['relevance_size'])\n",
    "        self.hidden2ans = nn.Linear(config['hidden_dim'], config['ans_size'])\n",
    "        \n",
    "        self.bilstm_flag = config['bilstm_flag']\n",
    "        self.layers=config['layers']\n",
    "        self.dropout=config['dropout']\n",
    "        \n",
    "        # defining the word embeddings\n",
    "        self.word_embeddings = nn.Embedding(self.vocab_size, self.embed_dim)\n",
    "        \n",
    "        # LSTM word\n",
    "        if(self.bilstm_flag):\n",
    "            self.lstm_word = nn.LSTM(self.embed_dim, int(self.hidden_dim/2), num_layers = self.layers,\n",
    "                                bidirectional=True, batch_first=True, dropout=self.dropout)\n",
    "        else:\n",
    "            self.lstm_word = nn.LSTM(self.embed_dim, self.hidden_dim, num_layers = self.layers,\n",
    "                                bidirectional=False, batch_first=True, dropout=self.dropout)\n",
    "        \n",
    "        self.attn_relevance = DotAttentionLayer(self.hidden_dim)\n",
    "    \n",
    "    def init_hidden(self, bilstm_flag, batch_size, layers, hidden_dim):\n",
    "        # num_layes, minibatch size, hidden_dim\n",
    "        if(bilstm_flag):\n",
    "            return (autograd.Variable(torch.FloatTensor(layers*2,\n",
    "                                                             batch_size,\n",
    "                                                             int(hidden_dim/2)).fill_(0)),\n",
    "                   autograd.Variable(torch.FloatTensor(layers*2,\n",
    "                                                            batch_size,\n",
    "                                                            int(hidden_dim/2)).fill_(0)))\n",
    "        else:\n",
    "            return (autograd.Variable(torch.FloatTensor(layers,\n",
    "                                                             batch_size,\n",
    "                                                             hidden_dim).fill_(0)),\n",
    "                   autograd.Variable(torch.FloatTensor(layers,\n",
    "                                                            batch_size,\n",
    "                                                            hidden_dim).fill_(0)))\n",
    "    \n",
    "    def forward(self, sent_inds, sent_lens):\n",
    "        embeds = self.word_embeddings(sent_inds)\n",
    "        packed = pack_padded_sequence(embeds, batch_lens, batch_first = True)\n",
    "        self.hidden_vals = self.init_hidden(self.bilstm_flag, embeds.shape[0], self.layers, self.hidden_dim)\n",
    "        \n",
    "        packed_output, self.hidden_vals = self.lstm_word(packed, self.hidden_vals)\n",
    "        lstm_out = pad_packed_sequence(packed_output, batch_first=True)[0]\n",
    "        \n",
    "        pad_op = self.attn_relevance((lstm_out,batch_lens))\n",
    "        \n",
    "        tag_space_rel = self.hidden2relevance(pad_op)\n",
    "        tag_space_rel = F.log_softmax(tag_space_rel,dim=1) \n",
    "        \n",
    "        tag_space_ans = self.hidden2ans(pad_op)\n",
    "        tag_space_ans = F.log_softmax(tag_space_ans, dim=1) \n",
    "        \n",
    "        return tag_space_rel, tag_space_ans\n",
    "        \n",
    "class DotAttentionLayer(nn.Module):\n",
    "    def __init__(self, hidden_size):\n",
    "        super(DotAttentionLayer, self).__init__()\n",
    "        self.hidden_size = hidden_size\n",
    "        self.W = nn.Linear(hidden_size, 1, bias=False)\n",
    "\n",
    "    def forward(self, input):\n",
    "        \"\"\"\n",
    "        input: (unpacked_padded_output: batch_size x seq_len x hidden_size, lengths: batch_size)\n",
    "        \"\"\"\n",
    "        inputs, lengths = input\n",
    "        batch_size, max_len, _ = inputs.size()\n",
    "        flat_input = inputs.contiguous().view(-1, self.hidden_size)\n",
    "        logits = self.W(flat_input).view(batch_size, max_len)\n",
    "        alphas = F.softmax(logits, dim=1)\n",
    "\n",
    "        # computing mask\n",
    "        idxes = torch.arange(0, max_len, out=torch.LongTensor(max_len)).unsqueeze(0)\n",
    "        mask = autograd.Variable((idxes<lengths.unsqueeze(1)).float())\n",
    "        alphas = alphas * mask\n",
    "        \n",
    "        # renormalize\n",
    "        alphas = alphas / torch.sum(alphas, 1).view(-1, 1)\n",
    "        output = torch.bmm(alphas.unsqueeze(1), inputs).squeeze(1)\n",
    "        return output"
   ]
  },
  {
   "cell_type": "code",
   "execution_count": 9,
   "metadata": {},
   "outputs": [
    {
     "name": "stderr",
     "output_type": "stream",
     "text": [
      "/home/bhanupratap/py3/lib/python3.6/site-packages/torch/nn/_reduction.py:46: UserWarning: size_average and reduce args will be deprecated, please use reduction='none' instead.\n",
      "  warnings.warn(warning.format(ret))\n"
     ]
    }
   ],
   "source": [
    "model = NaranjoTut(model_config)\n",
    "loss_function = nn.NLLLoss(reduce=False)\n",
    "optimizer = optim.SGD(model.parameters(), \n",
    "                           lr=model_config['lr'], \n",
    "                           weight_decay=model_config['weight_decay'])"
   ]
  },
  {
   "cell_type": "code",
   "execution_count": 10,
   "metadata": {},
   "outputs": [],
   "source": [
    "train_loss_list = []\n",
    "\n",
    "pred_rel = []\n",
    "actual_rel = []\n",
    "\n",
    "pred_sc = []\n",
    "actual_sc = []\n",
    "\n",
    "train_loss = 0\n",
    "\n",
    "batch = batchify(train_data[0:2], to_ix)\n",
    "batch_sents = autograd.Variable(torch.LongTensor(batch['sents']))\n",
    "batch_lens = autograd.Variable(torch.LongTensor(batch['lens']))\n",
    "\n",
    "score_rel, score_ans = model(batch_sents, batch_lens)\n",
    "\n",
    "actual_relevance_score = autograd.Variable(torch.LongTensor(batch['relevances'])) \n",
    "val, inds = torch.max(score_rel, dim=1)\n",
    "pred_rel+=inds.tolist()\n",
    "actual_rel+=actual_relevance_score.tolist()\n",
    "\n",
    "actual_sc_score = autograd.Variable(torch.LongTensor(batch['scores']))\n",
    "val, inds = torch.max(score_ans, dim=1)\n",
    "pred_sc+=inds.tolist()\n",
    "actual_sc+=actual_sc_score.tolist()\n",
    "\n",
    "relevance_loss = loss_function(score_rel, actual_relevance_score)\n",
    "sc_loss = loss_function(score_ans, actual_sc_score)\n",
    "\n",
    "loss = torch.sum(relevance_loss)+torch.sum(sc_loss)\n",
    "train_loss+=loss.item()\n",
    "\n",
    "loss.backward()\n",
    "optimizer.step()"
   ]
  },
  {
   "cell_type": "code",
   "execution_count": 11,
   "metadata": {},
   "outputs": [
    {
     "data": {
      "application/vnd.jupyter.widget-view+json": {
       "model_id": "c8b6d20bf2f94b8fb67a4ab0674b15e6",
       "version_major": 2,
       "version_minor": 0
      },
      "text/plain": [
       "HBox(children=(IntProgress(value=0, max=2), HTML(value='')))"
      ]
     },
     "metadata": {},
     "output_type": "display_data"
    },
    {
     "name": "stdout",
     "output_type": "stream",
     "text": [
      "\n"
     ]
    },
    {
     "data": {
      "application/vnd.jupyter.widget-view+json": {
       "model_id": "9e3c882f44ab42e49cb71af609ff7c5f",
       "version_major": 2,
       "version_minor": 0
      },
      "text/plain": [
       "HBox(children=(IntProgress(value=0, max=2), HTML(value='')))"
      ]
     },
     "metadata": {},
     "output_type": "display_data"
    },
    {
     "name": "stdout",
     "output_type": "stream",
     "text": [
      "\n"
     ]
    },
    {
     "data": {
      "application/vnd.jupyter.widget-view+json": {
       "model_id": "9d3e29e7f5a6472a969a253afec0a7af",
       "version_major": 2,
       "version_minor": 0
      },
      "text/plain": [
       "HBox(children=(IntProgress(value=0, max=2), HTML(value='')))"
      ]
     },
     "metadata": {},
     "output_type": "display_data"
    },
    {
     "name": "stdout",
     "output_type": "stream",
     "text": [
      "\n"
     ]
    },
    {
     "data": {
      "application/vnd.jupyter.widget-view+json": {
       "model_id": "2732228790894dc29981f9cf0e576ea1",
       "version_major": 2,
       "version_minor": 0
      },
      "text/plain": [
       "HBox(children=(IntProgress(value=0, max=2), HTML(value='')))"
      ]
     },
     "metadata": {},
     "output_type": "display_data"
    },
    {
     "name": "stdout",
     "output_type": "stream",
     "text": [
      "\n"
     ]
    },
    {
     "data": {
      "application/vnd.jupyter.widget-view+json": {
       "model_id": "c8145b34fc54470983dd3d063e838798",
       "version_major": 2,
       "version_minor": 0
      },
      "text/plain": [
       "HBox(children=(IntProgress(value=0, max=2), HTML(value='')))"
      ]
     },
     "metadata": {},
     "output_type": "display_data"
    },
    {
     "name": "stdout",
     "output_type": "stream",
     "text": [
      "\n"
     ]
    },
    {
     "data": {
      "application/vnd.jupyter.widget-view+json": {
       "model_id": "c19a14fa710144c08f270222f24f750a",
       "version_major": 2,
       "version_minor": 0
      },
      "text/plain": [
       "HBox(children=(IntProgress(value=0, max=2), HTML(value='')))"
      ]
     },
     "metadata": {},
     "output_type": "display_data"
    },
    {
     "name": "stdout",
     "output_type": "stream",
     "text": [
      "\n"
     ]
    },
    {
     "data": {
      "application/vnd.jupyter.widget-view+json": {
       "model_id": "47a7afef7892427b86c6411f30a53bf7",
       "version_major": 2,
       "version_minor": 0
      },
      "text/plain": [
       "HBox(children=(IntProgress(value=0, max=2), HTML(value='')))"
      ]
     },
     "metadata": {},
     "output_type": "display_data"
    },
    {
     "name": "stdout",
     "output_type": "stream",
     "text": [
      "\n"
     ]
    },
    {
     "data": {
      "application/vnd.jupyter.widget-view+json": {
       "model_id": "ba858d07f94d4121bf9279d6d1bf575a",
       "version_major": 2,
       "version_minor": 0
      },
      "text/plain": [
       "HBox(children=(IntProgress(value=0, max=2), HTML(value='')))"
      ]
     },
     "metadata": {},
     "output_type": "display_data"
    },
    {
     "name": "stdout",
     "output_type": "stream",
     "text": [
      "\n"
     ]
    },
    {
     "data": {
      "application/vnd.jupyter.widget-view+json": {
       "model_id": "706a7c0dd85347a3a81ad2b797b4218c",
       "version_major": 2,
       "version_minor": 0
      },
      "text/plain": [
       "HBox(children=(IntProgress(value=0, max=2), HTML(value='')))"
      ]
     },
     "metadata": {},
     "output_type": "display_data"
    },
    {
     "name": "stdout",
     "output_type": "stream",
     "text": [
      "\n"
     ]
    },
    {
     "data": {
      "application/vnd.jupyter.widget-view+json": {
       "model_id": "46d60e3f3cd042f99cf307db95dee86e",
       "version_major": 2,
       "version_minor": 0
      },
      "text/plain": [
       "HBox(children=(IntProgress(value=0, max=2), HTML(value='')))"
      ]
     },
     "metadata": {},
     "output_type": "display_data"
    },
    {
     "name": "stdout",
     "output_type": "stream",
     "text": [
      "\n"
     ]
    },
    {
     "data": {
      "application/vnd.jupyter.widget-view+json": {
       "model_id": "a53fe8ff0fcd40a5b393436cb4b18b6e",
       "version_major": 2,
       "version_minor": 0
      },
      "text/plain": [
       "HBox(children=(IntProgress(value=0, max=2), HTML(value='')))"
      ]
     },
     "metadata": {},
     "output_type": "display_data"
    },
    {
     "name": "stdout",
     "output_type": "stream",
     "text": [
      "\n"
     ]
    },
    {
     "data": {
      "application/vnd.jupyter.widget-view+json": {
       "model_id": "e498131c29d54c46aee39110ed044de6",
       "version_major": 2,
       "version_minor": 0
      },
      "text/plain": [
       "HBox(children=(IntProgress(value=0, max=2), HTML(value='')))"
      ]
     },
     "metadata": {},
     "output_type": "display_data"
    },
    {
     "name": "stdout",
     "output_type": "stream",
     "text": [
      "\n"
     ]
    },
    {
     "data": {
      "application/vnd.jupyter.widget-view+json": {
       "model_id": "c9b4738bd8294b6ca34b608d2a3de6db",
       "version_major": 2,
       "version_minor": 0
      },
      "text/plain": [
       "HBox(children=(IntProgress(value=0, max=2), HTML(value='')))"
      ]
     },
     "metadata": {},
     "output_type": "display_data"
    },
    {
     "name": "stdout",
     "output_type": "stream",
     "text": [
      "\n"
     ]
    },
    {
     "data": {
      "application/vnd.jupyter.widget-view+json": {
       "model_id": "a63989f4f19e404d8accd92ee147145e",
       "version_major": 2,
       "version_minor": 0
      },
      "text/plain": [
       "HBox(children=(IntProgress(value=0, max=2), HTML(value='')))"
      ]
     },
     "metadata": {},
     "output_type": "display_data"
    },
    {
     "name": "stdout",
     "output_type": "stream",
     "text": [
      "\n"
     ]
    },
    {
     "data": {
      "application/vnd.jupyter.widget-view+json": {
       "model_id": "c78bfa8517ac4ca2bf9c47b34796cf5c",
       "version_major": 2,
       "version_minor": 0
      },
      "text/plain": [
       "HBox(children=(IntProgress(value=0, max=2), HTML(value='')))"
      ]
     },
     "metadata": {},
     "output_type": "display_data"
    },
    {
     "name": "stdout",
     "output_type": "stream",
     "text": [
      "\n"
     ]
    },
    {
     "data": {
      "application/vnd.jupyter.widget-view+json": {
       "model_id": "300c08144bb54062968a56fcefe24603",
       "version_major": 2,
       "version_minor": 0
      },
      "text/plain": [
       "HBox(children=(IntProgress(value=0, max=2), HTML(value='')))"
      ]
     },
     "metadata": {},
     "output_type": "display_data"
    },
    {
     "name": "stdout",
     "output_type": "stream",
     "text": [
      "\n"
     ]
    },
    {
     "data": {
      "application/vnd.jupyter.widget-view+json": {
       "model_id": "9f9ac5259d95485eaacca74d5d20a168",
       "version_major": 2,
       "version_minor": 0
      },
      "text/plain": [
       "HBox(children=(IntProgress(value=0, max=2), HTML(value='')))"
      ]
     },
     "metadata": {},
     "output_type": "display_data"
    },
    {
     "name": "stdout",
     "output_type": "stream",
     "text": [
      "\n"
     ]
    },
    {
     "data": {
      "application/vnd.jupyter.widget-view+json": {
       "model_id": "2ed33cdc53e14048b0f82617e71d05bd",
       "version_major": 2,
       "version_minor": 0
      },
      "text/plain": [
       "HBox(children=(IntProgress(value=0, max=2), HTML(value='')))"
      ]
     },
     "metadata": {},
     "output_type": "display_data"
    },
    {
     "name": "stdout",
     "output_type": "stream",
     "text": [
      "\n"
     ]
    },
    {
     "data": {
      "application/vnd.jupyter.widget-view+json": {
       "model_id": "52ea9edb9b284e4581a9a3817932d328",
       "version_major": 2,
       "version_minor": 0
      },
      "text/plain": [
       "HBox(children=(IntProgress(value=0, max=2), HTML(value='')))"
      ]
     },
     "metadata": {},
     "output_type": "display_data"
    },
    {
     "name": "stdout",
     "output_type": "stream",
     "text": [
      "\n"
     ]
    },
    {
     "data": {
      "application/vnd.jupyter.widget-view+json": {
       "model_id": "9350ec0f3f69493097897775c0baf914",
       "version_major": 2,
       "version_minor": 0
      },
      "text/plain": [
       "HBox(children=(IntProgress(value=0, max=2), HTML(value='')))"
      ]
     },
     "metadata": {},
     "output_type": "display_data"
    },
    {
     "name": "stdout",
     "output_type": "stream",
     "text": [
      "\n"
     ]
    },
    {
     "data": {
      "application/vnd.jupyter.widget-view+json": {
       "model_id": "af1875911c6e4dd584d7e765bd8c4c20",
       "version_major": 2,
       "version_minor": 0
      },
      "text/plain": [
       "HBox(children=(IntProgress(value=0, max=2), HTML(value='')))"
      ]
     },
     "metadata": {},
     "output_type": "display_data"
    },
    {
     "name": "stdout",
     "output_type": "stream",
     "text": [
      "\n"
     ]
    },
    {
     "data": {
      "application/vnd.jupyter.widget-view+json": {
       "model_id": "e0c822ab2cd3465385810a155b3bea9d",
       "version_major": 2,
       "version_minor": 0
      },
      "text/plain": [
       "HBox(children=(IntProgress(value=0, max=2), HTML(value='')))"
      ]
     },
     "metadata": {},
     "output_type": "display_data"
    },
    {
     "name": "stdout",
     "output_type": "stream",
     "text": [
      "\n"
     ]
    },
    {
     "data": {
      "application/vnd.jupyter.widget-view+json": {
       "model_id": "92a2ffe2515048bc8243504c7e2dc2f9",
       "version_major": 2,
       "version_minor": 0
      },
      "text/plain": [
       "HBox(children=(IntProgress(value=0, max=2), HTML(value='')))"
      ]
     },
     "metadata": {},
     "output_type": "display_data"
    },
    {
     "name": "stdout",
     "output_type": "stream",
     "text": [
      "\n"
     ]
    },
    {
     "data": {
      "application/vnd.jupyter.widget-view+json": {
       "model_id": "5cd6b51455df4a009b494a93979a7aa0",
       "version_major": 2,
       "version_minor": 0
      },
      "text/plain": [
       "HBox(children=(IntProgress(value=0, max=2), HTML(value='')))"
      ]
     },
     "metadata": {},
     "output_type": "display_data"
    },
    {
     "name": "stdout",
     "output_type": "stream",
     "text": [
      "\n"
     ]
    },
    {
     "data": {
      "application/vnd.jupyter.widget-view+json": {
       "model_id": "e02b6684fb014654b0caff3feac5a98f",
       "version_major": 2,
       "version_minor": 0
      },
      "text/plain": [
       "HBox(children=(IntProgress(value=0, max=2), HTML(value='')))"
      ]
     },
     "metadata": {},
     "output_type": "display_data"
    },
    {
     "name": "stdout",
     "output_type": "stream",
     "text": [
      "\n"
     ]
    },
    {
     "data": {
      "application/vnd.jupyter.widget-view+json": {
       "model_id": "3351d311b55f4ff0ad985db085b74502",
       "version_major": 2,
       "version_minor": 0
      },
      "text/plain": [
       "HBox(children=(IntProgress(value=0, max=2), HTML(value='')))"
      ]
     },
     "metadata": {},
     "output_type": "display_data"
    },
    {
     "name": "stdout",
     "output_type": "stream",
     "text": [
      "\n"
     ]
    },
    {
     "data": {
      "application/vnd.jupyter.widget-view+json": {
       "model_id": "f407760d458349cebc2fb96f050d06da",
       "version_major": 2,
       "version_minor": 0
      },
      "text/plain": [
       "HBox(children=(IntProgress(value=0, max=2), HTML(value='')))"
      ]
     },
     "metadata": {},
     "output_type": "display_data"
    },
    {
     "name": "stdout",
     "output_type": "stream",
     "text": [
      "\n"
     ]
    },
    {
     "data": {
      "application/vnd.jupyter.widget-view+json": {
       "model_id": "fdf78bfbc4754910af691a66f0d8cd76",
       "version_major": 2,
       "version_minor": 0
      },
      "text/plain": [
       "HBox(children=(IntProgress(value=0, max=2), HTML(value='')))"
      ]
     },
     "metadata": {},
     "output_type": "display_data"
    },
    {
     "name": "stdout",
     "output_type": "stream",
     "text": [
      "\n"
     ]
    },
    {
     "data": {
      "application/vnd.jupyter.widget-view+json": {
       "model_id": "f499ab80ad2e4347bb02d62466dd5e02",
       "version_major": 2,
       "version_minor": 0
      },
      "text/plain": [
       "HBox(children=(IntProgress(value=0, max=2), HTML(value='')))"
      ]
     },
     "metadata": {},
     "output_type": "display_data"
    },
    {
     "name": "stdout",
     "output_type": "stream",
     "text": [
      "\n"
     ]
    },
    {
     "data": {
      "application/vnd.jupyter.widget-view+json": {
       "model_id": "ab4b7646906943a5907afabcdb566046",
       "version_major": 2,
       "version_minor": 0
      },
      "text/plain": [
       "HBox(children=(IntProgress(value=0, max=2), HTML(value='')))"
      ]
     },
     "metadata": {},
     "output_type": "display_data"
    },
    {
     "name": "stdout",
     "output_type": "stream",
     "text": [
      "\n"
     ]
    },
    {
     "data": {
      "application/vnd.jupyter.widget-view+json": {
       "model_id": "1e8b501af38842fa90b072ce645df8d9",
       "version_major": 2,
       "version_minor": 0
      },
      "text/plain": [
       "HBox(children=(IntProgress(value=0, max=2), HTML(value='')))"
      ]
     },
     "metadata": {},
     "output_type": "display_data"
    },
    {
     "name": "stdout",
     "output_type": "stream",
     "text": [
      "\n"
     ]
    },
    {
     "data": {
      "application/vnd.jupyter.widget-view+json": {
       "model_id": "0fac57d2bcd4443190be9bff0caf76a0",
       "version_major": 2,
       "version_minor": 0
      },
      "text/plain": [
       "HBox(children=(IntProgress(value=0, max=2), HTML(value='')))"
      ]
     },
     "metadata": {},
     "output_type": "display_data"
    },
    {
     "name": "stdout",
     "output_type": "stream",
     "text": [
      "\n"
     ]
    },
    {
     "data": {
      "application/vnd.jupyter.widget-view+json": {
       "model_id": "bd0955566831435ca0ac395867fb4562",
       "version_major": 2,
       "version_minor": 0
      },
      "text/plain": [
       "HBox(children=(IntProgress(value=0, max=2), HTML(value='')))"
      ]
     },
     "metadata": {},
     "output_type": "display_data"
    },
    {
     "name": "stdout",
     "output_type": "stream",
     "text": [
      "\n"
     ]
    },
    {
     "data": {
      "application/vnd.jupyter.widget-view+json": {
       "model_id": "9cdedc76429f42c29e635592c9e68191",
       "version_major": 2,
       "version_minor": 0
      },
      "text/plain": [
       "HBox(children=(IntProgress(value=0, max=2), HTML(value='')))"
      ]
     },
     "metadata": {},
     "output_type": "display_data"
    },
    {
     "name": "stdout",
     "output_type": "stream",
     "text": [
      "\n"
     ]
    },
    {
     "data": {
      "application/vnd.jupyter.widget-view+json": {
       "model_id": "a8fc0813c0de4c68b5b3587b697272fa",
       "version_major": 2,
       "version_minor": 0
      },
      "text/plain": [
       "HBox(children=(IntProgress(value=0, max=2), HTML(value='')))"
      ]
     },
     "metadata": {},
     "output_type": "display_data"
    },
    {
     "name": "stdout",
     "output_type": "stream",
     "text": [
      "\n"
     ]
    },
    {
     "data": {
      "application/vnd.jupyter.widget-view+json": {
       "model_id": "91dbe72abbb044f5b5dc085ce663f807",
       "version_major": 2,
       "version_minor": 0
      },
      "text/plain": [
       "HBox(children=(IntProgress(value=0, max=2), HTML(value='')))"
      ]
     },
     "metadata": {},
     "output_type": "display_data"
    },
    {
     "name": "stdout",
     "output_type": "stream",
     "text": [
      "\n"
     ]
    },
    {
     "data": {
      "application/vnd.jupyter.widget-view+json": {
       "model_id": "ced9b3202ce841bbab3171e275efe6b5",
       "version_major": 2,
       "version_minor": 0
      },
      "text/plain": [
       "HBox(children=(IntProgress(value=0, max=2), HTML(value='')))"
      ]
     },
     "metadata": {},
     "output_type": "display_data"
    },
    {
     "name": "stdout",
     "output_type": "stream",
     "text": [
      "\n"
     ]
    },
    {
     "data": {
      "application/vnd.jupyter.widget-view+json": {
       "model_id": "ea5eb2a1a2694eb1a40d88b55c69d418",
       "version_major": 2,
       "version_minor": 0
      },
      "text/plain": [
       "HBox(children=(IntProgress(value=0, max=2), HTML(value='')))"
      ]
     },
     "metadata": {},
     "output_type": "display_data"
    },
    {
     "name": "stdout",
     "output_type": "stream",
     "text": [
      "\n"
     ]
    },
    {
     "data": {
      "application/vnd.jupyter.widget-view+json": {
       "model_id": "29f3e569506c442facca191826030498",
       "version_major": 2,
       "version_minor": 0
      },
      "text/plain": [
       "HBox(children=(IntProgress(value=0, max=2), HTML(value='')))"
      ]
     },
     "metadata": {},
     "output_type": "display_data"
    },
    {
     "name": "stdout",
     "output_type": "stream",
     "text": [
      "\n"
     ]
    },
    {
     "data": {
      "application/vnd.jupyter.widget-view+json": {
       "model_id": "e8ffcd6794ff46609aa7ac7a3e7bbaa7",
       "version_major": 2,
       "version_minor": 0
      },
      "text/plain": [
       "HBox(children=(IntProgress(value=0, max=2), HTML(value='')))"
      ]
     },
     "metadata": {},
     "output_type": "display_data"
    },
    {
     "name": "stdout",
     "output_type": "stream",
     "text": [
      "\n"
     ]
    },
    {
     "data": {
      "application/vnd.jupyter.widget-view+json": {
       "model_id": "85a63bd8145f4093b3a8e499b03904f7",
       "version_major": 2,
       "version_minor": 0
      },
      "text/plain": [
       "HBox(children=(IntProgress(value=0, max=2), HTML(value='')))"
      ]
     },
     "metadata": {},
     "output_type": "display_data"
    },
    {
     "name": "stdout",
     "output_type": "stream",
     "text": [
      "\n"
     ]
    },
    {
     "data": {
      "application/vnd.jupyter.widget-view+json": {
       "model_id": "56ee5ebb0ecd4f27b2b28c28fe0b4018",
       "version_major": 2,
       "version_minor": 0
      },
      "text/plain": [
       "HBox(children=(IntProgress(value=0, max=2), HTML(value='')))"
      ]
     },
     "metadata": {},
     "output_type": "display_data"
    },
    {
     "name": "stdout",
     "output_type": "stream",
     "text": [
      "\n"
     ]
    },
    {
     "data": {
      "application/vnd.jupyter.widget-view+json": {
       "model_id": "6cb82d14b7864c3aafb4f7944a19c289",
       "version_major": 2,
       "version_minor": 0
      },
      "text/plain": [
       "HBox(children=(IntProgress(value=0, max=2), HTML(value='')))"
      ]
     },
     "metadata": {},
     "output_type": "display_data"
    },
    {
     "name": "stdout",
     "output_type": "stream",
     "text": [
      "\n"
     ]
    },
    {
     "data": {
      "application/vnd.jupyter.widget-view+json": {
       "model_id": "a80fa7f1984c4272adae9d51e9dfdbb9",
       "version_major": 2,
       "version_minor": 0
      },
      "text/plain": [
       "HBox(children=(IntProgress(value=0, max=2), HTML(value='')))"
      ]
     },
     "metadata": {},
     "output_type": "display_data"
    },
    {
     "name": "stdout",
     "output_type": "stream",
     "text": [
      "\n"
     ]
    },
    {
     "data": {
      "application/vnd.jupyter.widget-view+json": {
       "model_id": "f9a36fa45f9240c9bb36ee159d935d71",
       "version_major": 2,
       "version_minor": 0
      },
      "text/plain": [
       "HBox(children=(IntProgress(value=0, max=2), HTML(value='')))"
      ]
     },
     "metadata": {},
     "output_type": "display_data"
    },
    {
     "name": "stdout",
     "output_type": "stream",
     "text": [
      "\n"
     ]
    },
    {
     "data": {
      "application/vnd.jupyter.widget-view+json": {
       "model_id": "d4c005cbb22b415da77e4a4e31e4006e",
       "version_major": 2,
       "version_minor": 0
      },
      "text/plain": [
       "HBox(children=(IntProgress(value=0, max=2), HTML(value='')))"
      ]
     },
     "metadata": {},
     "output_type": "display_data"
    },
    {
     "name": "stdout",
     "output_type": "stream",
     "text": [
      "\n"
     ]
    },
    {
     "data": {
      "application/vnd.jupyter.widget-view+json": {
       "model_id": "da0a3b967181418ebcc93c93c0238b0d",
       "version_major": 2,
       "version_minor": 0
      },
      "text/plain": [
       "HBox(children=(IntProgress(value=0, max=2), HTML(value='')))"
      ]
     },
     "metadata": {},
     "output_type": "display_data"
    },
    {
     "name": "stdout",
     "output_type": "stream",
     "text": [
      "\n"
     ]
    },
    {
     "data": {
      "application/vnd.jupyter.widget-view+json": {
       "model_id": "36caab01dcea46f7a33d701f309d0985",
       "version_major": 2,
       "version_minor": 0
      },
      "text/plain": [
       "HBox(children=(IntProgress(value=0, max=2), HTML(value='')))"
      ]
     },
     "metadata": {},
     "output_type": "display_data"
    },
    {
     "name": "stdout",
     "output_type": "stream",
     "text": [
      "\n"
     ]
    },
    {
     "data": {
      "application/vnd.jupyter.widget-view+json": {
       "model_id": "d4513762c647418684ded587a4ce74b4",
       "version_major": 2,
       "version_minor": 0
      },
      "text/plain": [
       "HBox(children=(IntProgress(value=0, max=2), HTML(value='')))"
      ]
     },
     "metadata": {},
     "output_type": "display_data"
    },
    {
     "name": "stdout",
     "output_type": "stream",
     "text": [
      "\n"
     ]
    },
    {
     "data": {
      "application/vnd.jupyter.widget-view+json": {
       "model_id": "437a3cf3b09a48ce85f612298ef3ae42",
       "version_major": 2,
       "version_minor": 0
      },
      "text/plain": [
       "HBox(children=(IntProgress(value=0, max=2), HTML(value='')))"
      ]
     },
     "metadata": {},
     "output_type": "display_data"
    },
    {
     "name": "stdout",
     "output_type": "stream",
     "text": [
      "\n"
     ]
    }
   ],
   "source": [
    "train_loss_list = []\n",
    "\n",
    "for epoch in range(50):\n",
    "#     print('--'*10+\"Epoch\"+\"--\"*10)\n",
    "    pred_rel = []\n",
    "    actual_rel = []\n",
    "\n",
    "    pred_sc = []\n",
    "    actual_sc = []\n",
    "\n",
    "    train_loss = 0\n",
    "    for ind in tqdm(range(0,len(train_data), model_config['batch_size'])):\n",
    "        batch = batchify(train_data[ind:ind+model_config['batch_size']], to_ix)\n",
    "        batch_sents = autograd.Variable(torch.LongTensor(batch['sents']))\n",
    "        batch_lens = autograd.Variable(torch.LongTensor(batch['lens']))\n",
    "        \n",
    "        score_rel, score_ans = model(batch_sents, batch_lens)\n",
    "\n",
    "        actual_relevance_score = autograd.Variable(torch.LongTensor(batch['relevances'])) \n",
    "        val, inds = torch.max(score_rel, dim=1)\n",
    "        pred_rel+=inds.tolist()\n",
    "        actual_rel+=actual_relevance_score.tolist()\n",
    "\n",
    "        actual_sc_score = autograd.Variable(torch.LongTensor(batch['scores']))\n",
    "        val, inds = torch.max(score_ans, dim=1)\n",
    "        pred_sc+=inds.tolist()\n",
    "        actual_sc+=actual_sc_score.tolist()\n",
    "\n",
    "        relevance_loss = loss_function(score_rel, actual_relevance_score)\n",
    "        sc_loss = loss_function(score_ans, actual_sc_score)\n",
    "\n",
    "        loss = model_config['alpha']*torch.sum(relevance_loss)+(1-model_config['alpha'])*torch.sum(sc_loss)\n",
    "        train_loss+=loss.item()\n",
    "\n",
    "        loss.backward()\n",
    "        optimizer.step()\n",
    "    train_loss_list.append(train_loss)"
   ]
  },
  {
   "cell_type": "code",
   "execution_count": 12,
   "metadata": {},
   "outputs": [
    {
     "data": {
      "text/plain": [
       "[<matplotlib.lines.Line2D at 0x7f5bf22b8320>]"
      ]
     },
     "execution_count": 12,
     "metadata": {},
     "output_type": "execute_result"
    },
    {
     "data": {
      "image/png": "[encoded data removed]",
      "text/plain": [
       "<Figure size 432x288 with 1 Axes>"
      ]
     },
     "metadata": {
      "needs_background": "light"
     },
     "output_type": "display_data"
    }
   ],
   "source": [
    "plt.plot(train_loss_list)"
   ]
  },
  {
   "cell_type": "code",
   "execution_count": null,
   "metadata": {},
   "outputs": [],
   "source": []
  },
  {
   "cell_type": "code",
   "execution_count": null,
   "metadata": {},
   "outputs": [],
   "source": []
  }
 ],
 "metadata": {
  "kernelspec": {
   "display_name": "Python 3",
   "language": "python",
   "name": "python3"
  },
  "language_info": {
   "codemirror_mode": {
    "name": "ipython",
    "version": 3
   },
   "file_extension": ".py",
   "mimetype": "text/x-python",
   "name": "python",
   "nbconvert_exporter": "python",
   "pygments_lexer": "ipython3",
   "version": "3.6.7"
  }
 },
 "nbformat": 4,
 "nbformat_minor": 2
}
